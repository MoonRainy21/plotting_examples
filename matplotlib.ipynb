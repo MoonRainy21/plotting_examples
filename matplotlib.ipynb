{
 "cells": [
  {
   "cell_type": "code",
   "execution_count": null,
   "metadata": {},
   "outputs": [],
   "source": [
    "import numpy as np\n",
    "import pandas as pd\n",
    "import matplotlib.pyplot as plt\n",
    "%matplotlib inline\n",
    "import os\n",
    "\n",
    "os.makedirs('outputs', exist_ok=True)"
   ]
  },
  {
   "cell_type": "markdown",
   "metadata": {},
   "source": [
    "# Bar Plot"
   ]
  },
  {
   "cell_type": "code",
   "execution_count": null,
   "metadata": {},
   "outputs": [],
   "source": [
    "barplot_data = pd.read_csv('dataset/barplot.csv')\n",
    "barplot_data"
   ]
  },
  {
   "cell_type": "code",
   "execution_count": null,
   "metadata": {},
   "outputs": [],
   "source": [
    "fig, ax = plt.subplots()\n",
    "\n",
    "bar_labels = ['1', '2', '3', '4', '5']\n",
    "bar_colors = ['tab:red', 'tab:blue', 'tab:red', 'tab:orange', 'tab:green']\n",
    "\n",
    "ax.bar(barplot_data.columns, barplot_data.loc[0], label=bar_labels, color=bar_colors)\n",
    "\n",
    "ax.set_xlabel('X Label')\n",
    "ax.set_ylabel('Y Label')\n",
    "ax.set_title('Title')\n",
    "ax.legend(title='Legend Title')\n",
    "ax.set_ylim(-10, 110)\n",
    "\n",
    "plt.savefig('outputs/barplot.png', dpi=300, bbox_inches='tight')\n",
    "plt.show()"
   ]
  },
  {
   "cell_type": "code",
   "execution_count": null,
   "metadata": {},
   "outputs": [],
   "source": [
    "grouped_barplot_data = pd.read_csv('dataset/grouped_barplot.csv')\n",
    "grouped_barplot_data"
   ]
  },
  {
   "cell_type": "code",
   "execution_count": null,
   "metadata": {},
   "outputs": [],
   "source": [
    "columns = grouped_barplot_data.index\n",
    "data = dict()\n",
    "for index, column in enumerate(grouped_barplot_data.columns):\n",
    "    data[column] = grouped_barplot_data[column]\n",
    "\n",
    "x = np.arange(len(columns))  # the label locations\n",
    "width = 0.25  # the width of the bars\n",
    "multiplier = 0\n",
    "\n",
    "fig, ax = plt.subplots(layout='constrained')\n",
    "\n",
    "for attribute, measurement in data.items():\n",
    "    offset = width * multiplier\n",
    "    rects = ax.bar(x + offset, measurement, width, label=attribute)\n",
    "    ax.bar_label(rects, padding=3)\n",
    "    multiplier += 1\n",
    "\n",
    "# Add some text for labels, title and custom x-axis tick labels, etc.\n",
    "ax.set_xlabel('X Label')\n",
    "ax.set_ylabel('Y Label')\n",
    "ax.set_title('Title')\n",
    "ax.set_xticks(x + width, columns)\n",
    "ax.legend(loc='upper left', ncols=3)\n",
    "ax.set_ylim(0, 250)\n",
    "\n",
    "plt.savefig('outputs/grouped_barplot.png', dpi=300, bbox_inches='tight')\n",
    "plt.show()"
   ]
  },
  {
   "cell_type": "markdown",
   "metadata": {},
   "source": [
    "# Signal Plot"
   ]
  },
  {
   "cell_type": "code",
   "execution_count": null,
   "metadata": {},
   "outputs": [],
   "source": [
    "signal_data = pd.read_csv('dataset/signal_plot.csv')\n",
    "signal_data.head()"
   ]
  },
  {
   "cell_type": "code",
   "execution_count": null,
   "metadata": {},
   "outputs": [],
   "source": [
    "t = signal_data['X']\n",
    "s = signal_data['Y']\n",
    "\n",
    "fig, ax = plt.subplots()\n",
    "ax.plot(t, s, label='Signal', color='tab:blue')\n",
    "\n",
    "ax.set_xlabel('X Label')\n",
    "ax.set_ylabel('Y Label')\n",
    "ax.set_title('Title')\n",
    "ax.set_xlim(0, 10)\n",
    "ax.set_ylim(-2, 2)\n",
    "ax.grid()\n",
    "\n",
    "plt.savefig('outputs/signal_plot.png', dpi=300, bbox_inches='tight')\n",
    "plt.show()"
   ]
  },
  {
   "cell_type": "code",
   "execution_count": null,
   "metadata": {},
   "outputs": [],
   "source": [
    "multi_signal_data = pd.read_csv('dataset/multiple_signal_plot.csv')\n",
    "multi_signal_data.head()"
   ]
  },
  {
   "cell_type": "code",
   "execution_count": null,
   "metadata": {},
   "outputs": [],
   "source": [
    "t = multi_signal_data['X']\n",
    "s1 = multi_signal_data['Y1']\n",
    "s2 = multi_signal_data['Y2']\n",
    "\n",
    "fig, ax = plt.subplots()\n",
    "ax.plot(t, s1, label='Y1', color='tab:red')\n",
    "ax.plot(t, s2, label='Y2', color='tab:green')\n",
    "\n",
    "ax.set_xlabel('X Label')\n",
    "ax.set_ylabel('Y Label')\n",
    "ax.set_title('Title')\n",
    "ax.set_xlim(0, 10)\n",
    "ax.set_ylim(-2, 2)\n",
    "ax.grid()\n",
    "ax.legend()\n",
    "\n",
    "plt.savefig('outputs/multiple_signal_plot.png', dpi=300, bbox_inches='tight')\n",
    "plt.show()"
   ]
  },
  {
   "cell_type": "markdown",
   "metadata": {},
   "source": [
    "# Heatmap"
   ]
  },
  {
   "cell_type": "code",
   "execution_count": null,
   "metadata": {},
   "outputs": [],
   "source": [
    "heatmap_data = pd.read_csv('dataset/heatmap.csv')\n",
    "heatmap_data.head()"
   ]
  },
  {
   "cell_type": "code",
   "execution_count": null,
   "metadata": {},
   "outputs": [],
   "source": [
    "columns = heatmap_data.columns\n",
    "index = heatmap_data.index\n",
    "\n",
    "np_data = np.array(heatmap_data)\n",
    "\n",
    "fig, ax = plt.subplots()\n",
    "im = ax.imshow(np_data, cmap=\"summer\")  # color map\n",
    "# viridis, plasma, inferno, magma, cividis, seismic, cool, spring, summer, autumn, winter, gray, bone, pink, hot, afmhot, gist_heat, copper\n",
    "\n",
    "# Show all ticks and label them with the respective list entries\n",
    "ax.set_xticks(np.arange(len(index)), labels=index)\n",
    "ax.set_yticks(np.arange(len(columns)), labels=columns)\n",
    "\n",
    "# Rotate the tick labels and set their alignment.\n",
    "plt.setp(\n",
    "    ax.get_xticklabels(),\n",
    "    rotation=45, # rotation of the labels\n",
    "    ha=\"right\", # horizontal alignment\n",
    ")\n",
    "\n",
    "# Loop over data dimensions and create text annotations.\n",
    "for i in range(len(columns)):\n",
    "    for j in range(len(index)):\n",
    "        text = ax.text(\n",
    "            j, i, np_data[i, j], ha=\"center\", va=\"center\", color=\"black\"\n",
    "        )  # color of the text\n",
    "\n",
    "# Create colorbar\n",
    "cbar = ax.figure.colorbar(im, ax=ax)\n",
    "cbar.ax.set_ylabel(\"Color Bar Label\", rotation=-90, va=\"bottom\")\n",
    "\n",
    "ax.set_title(\"Title\")\n",
    "ax.set_xlabel('X Label')\n",
    "ax.set_ylabel('Y Label')\n",
    "ax.set_title('Title')\n",
    "fig.tight_layout()\n",
    "plt.savefig('outputs/heatmap.png', dpi=300, bbox_inches='tight')\n",
    "plt.show()"
   ]
  },
  {
   "cell_type": "markdown",
   "metadata": {},
   "source": [
    "# Histogram"
   ]
  },
  {
   "cell_type": "code",
   "execution_count": null,
   "metadata": {},
   "outputs": [],
   "source": [
    "histogram_data = pd.read_csv('dataset/histogram.csv')\n",
    "histogram_data.head()"
   ]
  },
  {
   "cell_type": "code",
   "execution_count": null,
   "metadata": {},
   "outputs": [],
   "source": [
    "from matplotlib import colors\n",
    "from matplotlib.ticker import PercentFormatter\n",
    "\n",
    "n_bins = 20\n",
    "\n",
    "# Generate two normal distributions\n",
    "dist = histogram_data['Value']\n",
    "\n",
    "axs = plt.subplot()\n",
    "\n",
    "# We can set the number of bins with the *bins* keyword argument.\n",
    "N, bins, patches = axs.hist(dist, bins=n_bins)\n",
    "axs.set_xlabel('X Label')\n",
    "axs.set_ylabel('Y Label')\n",
    "axs.set_title('Title')\n",
    "\n",
    "axs.yaxis.set_major_formatter(PercentFormatter(xmax=len(dist)))\n",
    "\n",
    "fracs = N / N.max()\n",
    "norm = colors.Normalize(fracs.min(), fracs.max())\n",
    "\n",
    "for thisfrac, thispatch in zip(fracs, patches):\n",
    "    color = plt.cm.viridis(norm(thisfrac))\n",
    "    thispatch.set_facecolor(color)\n",
    "\n",
    "plt.savefig('outputs/histogram.png', dpi=300, bbox_inches='tight')\n",
    "plt.show()"
   ]
  },
  {
   "cell_type": "markdown",
   "metadata": {},
   "source": [
    "# Scatter Plot"
   ]
  },
  {
   "cell_type": "code",
   "execution_count": null,
   "metadata": {},
   "outputs": [],
   "source": [
    "scatter_data = pd.read_csv('dataset/scatterplot.csv')\n",
    "scatter_data.head()"
   ]
  },
  {
   "cell_type": "code",
   "execution_count": null,
   "metadata": {},
   "outputs": [],
   "source": [
    "ax = plt.subplot()\n",
    "ax.scatter(scatter_data['X'], scatter_data['Y'], label='Scatter Plot', color='tab:red')\n",
    "\n",
    "ax.set_xlabel('X Label')\n",
    "ax.set_ylabel('Y Label')\n",
    "ax.set_title('Title')\n",
    "ax.grid()\n",
    "\n",
    "plt.savefig('outputs/scatterplot.png', dpi=300, bbox_inches='tight')\n",
    "plt.show()"
   ]
  },
  {
   "cell_type": "code",
   "execution_count": null,
   "metadata": {},
   "outputs": [],
   "source": [
    "bins = 20\n",
    "fig = plt.figure()\n",
    "\n",
    "gs = fig.add_gridspec(2, 2,  width_ratios=(4, 1), height_ratios=(1, 4),\n",
    "                      left=0.1, right=0.9, bottom=0.1, top=0.9,\n",
    "                      wspace=0.05, hspace=0.05)\n",
    "# Create the Axes.\n",
    "ax = fig.add_subplot(gs[1, 0])\n",
    "ax_histx = fig.add_subplot(gs[0, 0], sharex=ax)\n",
    "ax_histy = fig.add_subplot(gs[1, 1], sharey=ax)\n",
    "\n",
    "ax_histx.tick_params(axis=\"x\", labelbottom=False)\n",
    "ax_histy.tick_params(axis=\"y\", labelleft=False)\n",
    "ax.scatter(scatter_data['X'], scatter_data['Y'], label='Scatter Plot', color='tab:red')\n",
    "ax_histx.hist(scatter_data['X'], bins=bins)\n",
    "ax_histy.hist(scatter_data['Y'], bins=bins, orientation='horizontal')\n",
    "\n",
    "ax.set_xlabel('X Label')\n",
    "ax.set_ylabel('Y Label')\n",
    "ax.set_title('Title')\n",
    "ax.grid()\n",
    "\n",
    "plt.savefig('outputs/scatterplot_with_histogram.png', dpi=300, bbox_inches='tight')\n",
    "plt.show()"
   ]
  },
  {
   "cell_type": "code",
   "execution_count": null,
   "metadata": {},
   "outputs": [],
   "source": []
  }
 ],
 "metadata": {
  "kernelspec": {
   "display_name": "Python 3",
   "language": "python",
   "name": "python3"
  },
  "language_info": {
   "codemirror_mode": {
    "name": "ipython",
    "version": 3
   },
   "file_extension": ".py",
   "mimetype": "text/x-python",
   "name": "python",
   "nbconvert_exporter": "python",
   "pygments_lexer": "ipython3",
   "version": "3.10.13"
  }
 },
 "nbformat": 4,
 "nbformat_minor": 2
}
